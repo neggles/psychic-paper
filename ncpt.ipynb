{
 "cells": [
  {
   "cell_type": "markdown",
   "metadata": {},
   "source": [
    "# NCPT Paperspace One-click (v0.2)\n",
    "\n",
    "### Last updated: 21 Sept 2023\n",
    "\n",
    "Check for updates [here](https://link-will-be-here-soon.com) (eventually)\n"
   ]
  },
  {
   "cell_type": "code",
   "execution_count": 1,
   "metadata": {},
   "outputs": [
    {
     "data": {
      "application/vnd.jupyter.widget-view+json": {
       "model_id": "743b574ae1794ada89f6194f6ce63ab7",
       "version_major": 2,
       "version_minor": 0
      },
      "text/plain": [
       "Checkbox(value=False, description='Save outputs to persistent storage (max. 5GB for free, 15GB for pro)', layo…"
      ]
     },
     "metadata": {},
     "output_type": "display_data"
    },
    {
     "data": {
      "application/vnd.jupyter.widget-view+json": {
       "model_id": "8a138822ec1740918a64818b52ef6de0",
       "version_major": 2,
       "version_minor": 0
      },
      "text/plain": [
       "Checkbox(value=False, description='Force use of cached dependencies (faster, may break things)', layout=Layout…"
      ]
     },
     "metadata": {},
     "output_type": "display_data"
    },
    {
     "data": {
      "application/vnd.jupyter.widget-view+json": {
       "model_id": "4f740bf132114a87a409cad6fb14b0ae",
       "version_major": 2,
       "version_minor": 0
      },
      "text/plain": [
       "Checkbox(value=False, description='Update all extensions on launch', layout=Layout(width='50%'))"
      ]
     },
     "metadata": {},
     "output_type": "display_data"
    },
    {
     "data": {
      "application/vnd.jupyter.widget-view+json": {
       "model_id": "a5d13e85d8624bf2820bc0ab524a6ba5",
       "version_major": 2,
       "version_minor": 0
      },
      "text/plain": [
       "Text(value='', description='HuggingFace token (optional)', layout=Layout(width='50%'), style=TextStyle(descrip…"
      ]
     },
     "metadata": {},
     "output_type": "display_data"
    },
    {
     "data": {
      "application/vnd.jupyter.widget-view+json": {
       "model_id": "c6cb197a769644b39f97c09b8fa65e9b",
       "version_major": 2,
       "version_minor": 0
      },
      "text/plain": [
       "Text(value='--xformers', description='Extra commandline arguments', layout=Layout(width='50%'), style=TextStyl…"
      ]
     },
     "metadata": {},
     "output_type": "display_data"
    }
   ],
   "source": [
    "from ipywidgets import Checkbox, Text\n",
    "from IPython.display import display\n",
    "from pathlib import Path\n",
    "from subprocess import check_output, check_call\n",
    "\n",
    "\n",
    "style = {\"description_width\": \"25%\"}\n",
    "layout = {\"width\": \"50%\"}\n",
    "\n",
    "persistence_control = Checkbox(\n",
    "    value=False,\n",
    "    description=\"Save outputs to persistent storage (max. 5GB for free, 15GB for pro)\",\n",
    "    layout=layout,\n",
    ")\n",
    "force_cache_control = Checkbox(\n",
    "    value=False,\n",
    "    description=\"Force use of cached dependencies (faster, may break things)\",\n",
    "    layout=layout,\n",
    ")\n",
    "extn_update_control = Checkbox(value=False, description=\"Update all extensions on launch\", layout=layout)\n",
    "\n",
    "# textboxes\n",
    "hf_token = Text(value=\"\", description=\"HuggingFace token (optional)\", style=style, layout=layout)\n",
    "commandline_arg_control = Text(\n",
    "    value=\"--xformers\", description=\"Extra commandline arguments\", style=style, layout=layout\n",
    ")\n",
    "\n",
    "# show them\n",
    "display(persistence_control, force_cache_control, extn_update_control, hf_token, commandline_arg_control)\n"
   ]
  },
  {
   "cell_type": "code",
   "execution_count": null,
   "metadata": {},
   "outputs": [],
   "source": [
    "# ---------[ No need to change anything in this block! ]---------\n",
    "\n",
    "import shutil\n",
    "from urllib.parse import urlparse\n",
    "from os import getenv, environ\n",
    "\n",
    "# fixed (Always present) command line args, needed for this to work at all\n",
    "static_args = \"--enable-insecure-extension-access --disable-safe-unpickle --theme dark --listen --port 6006\"\n",
    "\n",
    "# options class for easy access\n",
    "class CurrentOptions:\n",
    "    # fixed (Always present) command line args, needed for this to work at all\n",
    "    static_args = (\n",
    "        \"--enable-insecure-extension-access --disable-safe-unpickle --theme dark --listen --port 6006\"\n",
    "    )\n",
    "\n",
    "    @property\n",
    "    def output_to_persistent(self) -> bool:\n",
    "        return persistence_control.value\n",
    "\n",
    "    @property\n",
    "    def force_cache_deps(self) -> bool:\n",
    "        return force_cache_control.value\n",
    "\n",
    "    @property\n",
    "    def update_all_extensions(self) -> bool:\n",
    "        return extn_update_control.value\n",
    "\n",
    "    @property\n",
    "    def optional_huggingface_token(self) -> str:\n",
    "        return hf_token.value\n",
    "\n",
    "    @property\n",
    "    def commandline_arguments(self) -> str:\n",
    "        arg_list = [self.static_args]\n",
    "        if hf_token.value != \"\":\n",
    "            arg_list.extend([\"--hf-token-out\", hf_token.value])\n",
    "        if extn_update_control.value is True:\n",
    "            arg_list.append(\"--update-all-extensions\")\n",
    "        if commandline_arg_control.value != \"\":\n",
    "            arg_list.extend([x for x in commandline_arg_control.value.split(\" \") if x != \"\"])\n",
    "        return \" \".join(arg_list)\n",
    "\n",
    "# spawn the boi\n",
    "options = CurrentOptions()\n",
    "\n",
    "# paperspace-provided directories\n",
    "notebook_dir = Path(\"/notebooks\")\n",
    "storage_dir = Path(\"/storage\")\n",
    "# local-only semi-persistent storage\n",
    "content_dir = Path(\"/content\")\n",
    "# where we put deps\n",
    "dep_cache_dir = storage_dir.joinpath(\"a1111_dependencies\")\n",
    "# where models will go\n",
    "models_dir = content_dir.joinpath(\"sdw/models\")\n",
    "# temp file for aria2 jobs\n",
    "aria2_file = Path(\"/tmp/aria2-in.txt\")\n",
    "\n",
    "\n",
    "# set up content dir symlink\n",
    "content_dir.mkdir(exist_ok=True)\n",
    "content_symlink = content_dir.joinpath(\"content\")\n",
    "if not all(\n",
    "    (content_symlink.exists(), content_symlink.is_symlink(), content_symlink.resolve() == content_dir)\n",
    "):\n",
    "    # recreate the symlink\n",
    "    shutil.rmtree(content_symlink, ignore_errors=True)\n",
    "    content_symlink.symlink_to(content_dir, target_is_directory=True)\n",
    "\n",
    "# download repo if needed\n",
    "config_json = content_dir.joinpath(\"sdw/config.json\")\n",
    "if not config_json.exists():\n",
    "    # repo isn't here so LET'S GOOOOOOOOOO\n",
    "    aria2_task = \"\\n\".join(\n",
    "        [\n",
    "            \"https://huggingface.co/NoCrypt/fast-repo/resolve/main/repo.tar.lz4\",\n",
    "            \"\\tout=repo.tar.lz4\",\n",
    "            \"https://huggingface.co/NoCrypt/fast-repo/resolve/main/cache.tar.lz4\",\n",
    "            \"\\tout=cache.tar.lz4\",\n",
    "        ]\n",
    "    )\n",
    "    aria2_file.write_text(aria2_task)\n",
    "    display(\"Downloading repo and cache. This may take a while...\")\n",
    "    check_call(\n",
    "        [\"aria2c\", \"--input-file=/tmp/aria2-in.txt\", \"-j4\", \"-x16\", \"-s16\", \"-k1M\", \"-c\"],\n",
    "        cwd=content_dir,\n",
    "    )\n",
    "    aria2_file.unlink()\n",
    "\n",
    "    display(\"Extracting repo...\")\n",
    "    check_call([\"tar\", \"-xI\", \"lz4\", \"-f\", \"repo.tar.lz4\", \"--directory=/\"], cwd=content_dir)\n",
    "    content_dir.joinpath(\"repo.tar.lz4\").unlink()\n",
    "\n",
    "    display(\"Extracting cache...\")\n",
    "    check_call([\"tar\", \"-xI\", \"lz4\", \"-f\", \"cache.tar.lz4\", \"--directory=/\"], cwd=content_dir)\n",
    "    content_dir.joinpath(\"cache.tar.lz4\").unlink()\n",
    "\n",
    "# set up dependency cache\n",
    "if dep_cache_dir.exists() is False or options.force_cache_deps:\n",
    "    if options.force_cache_deps and dep_cache_dir.exists():\n",
    "        display(\"Forcing removal of dependency cache!\")\n",
    "        shutil.rmtree(dep_cache_dir)\n",
    "    display(\"Caching dependencies. This may take a while...\")\n",
    "    dep_cache_dir.mkdir(exist_ok=True)\n",
    "    check_call(\n",
    "        [\"bash\", \"./webui.sh\", \"-f\", options.commandline_arguments, \"--exit\"], cwd=content_dir.joinpath(\"sdw\")\n",
    "    )\n",
    "\n",
    "    # recursively copy all files in /usr/local/lib/python3.10/site-packages/ to /storage/a1111_dependencies/ (except for .pyc files)\n",
    "    if Path(\"/usr/local/lib/python3.10/site-packages/\").exists():\n",
    "        display(\"Copying dependencies to persistent cache...\")\n",
    "        shutil.copytree(\n",
    "        \"/usr/local/lib/python3.10/site-packages/\",\n",
    "        \"/storage/a1111_dependencies/\",\n",
    "        symlinks=True,\n",
    "        ignore=shutil.ignore_patterns(\"*.pyc\"),\n",
    "        dirs_exist_ok=True,\n",
    "    )\n",
    "\n",
    "# func to acquire checkpoints with\n",
    "def acquire_checkpoints(checkpoint_urls: list[str], subdir:str = \"Stable-diffusion\") -> bool:\n",
    "    aria2_task_lines = []\n",
    "    for url in checkpoint_urls:\n",
    "        filename = urlparse(url).path.split(\"/\")[-1]\n",
    "        if not models_dir.joinpath(subdir, filename).exists():\n",
    "            aria2_task_lines.extend([url, f\"\\tout={filename}\"])\n",
    "    if len(aria2_task_lines) == 0:\n",
    "        display(f\"All {subdir} checkpoints already downloaded, skipping...\")\n",
    "        return\n",
    "    aria2_task = \"\\n\".join(aria2_task_lines)\n",
    "    aria2_file.write_text(aria2_task)\n",
    "    display(f\"Downloading {len(checkpoint_urls)} checkpoints, this may take a while...\")\n",
    "    check_call(\n",
    "        [\"aria2c\", \"--input-file=/tmp/aria2-in.txt\", \"-j4\", \"-x16\", \"-s16\", \"-k1M\", \"-c\"],\n",
    "        cwd=models_dir.joinpath(subdir),\n",
    "    )\n",
    "    aria2_file.unlink()\n",
    "    return True\n",
    "\n",
    "# what ones to load\n",
    "model_urls = [\n",
    "    \"https://huggingface.co/NoCrypt/expermental_models/resolve/main/shux4.fp16.safetensors\",\n",
    "    \"https://huggingface.co/NoCrypt/expermental_models/resolve/main/smoothshux4d-half.safetensors\",\n",
    "    \"https://huggingface.co/NoCrypt/expermental_models/resolve/main/exs4.safetensors\",\n",
    "]\n",
    "vae_urls = [\n",
    "    'https://huggingface.co/NoCrypt/resources/resolve/main/VAE/any.vae.safetensors',\n",
    "    'https://huggingface.co/NoCrypt/resources/resolve/main/VAE/blessed2.vae.safetensors',\n",
    "    'https://huggingface.co/NoCrypt/resources/resolve/main/VAE/wd-blessed09.vae.safetensors',\n",
    "    'https://huggingface.co/NoCrypt/resources/resolve/main/VAE/wd.vae.safetensors',\n",
    "]\n",
    "\n",
    "# actually load them\n",
    "acquire_checkpoints(model_urls, \"Stable-diffusion\")\n",
    "acquire_checkpoints(vae_urls, \"VAE\")\n",
    "\n",
    "# start. the thing\n",
    "environ['COMMANDLINE_ARGS'] = options.commandline_arguments\n",
    "environ['REQS_FILE'] = \"requirements_versions.txt\"\n",
    "\n",
    "display(\"Starting 'tensorboard'...\")\n",
    "display(f\"Access via this URL: https://tensorboard-{getenv('PAPERSPACE_FQDN')}\")\n",
    "\n",
    "cmdline_arg_str = options.commandline_arguments\n",
    "\n",
    "webui_user = f\"\"\"#!/bin/bash\n",
    "venv_dir='-'\n",
    "\"\"\"\n",
    "content_dir.joinpath(\"sdw/webui-user.sh\").write_text(webui_user)\n",
    "\n",
    "%cd /content/sdw\n",
    "check_call([\"/usr/bin/env\", \"bash\", \"./webui.sh\", \"-f\"], cwd=content_dir.joinpath(\"sdw\"))"
   ]
  }
 ],
 "metadata": {
  "kernelspec": {
   "display_name": ".venv",
   "language": "python",
   "name": "python3"
  },
  "language_info": {
   "codemirror_mode": {
    "name": "ipython",
    "version": 3
   },
   "file_extension": ".py",
   "mimetype": "text/x-python",
   "name": "python",
   "nbconvert_exporter": "python",
   "pygments_lexer": "ipython3",
   "version": "3.10.12"
  },
  "orig_nbformat": 4
 },
 "nbformat": 4,
 "nbformat_minor": 2
}
